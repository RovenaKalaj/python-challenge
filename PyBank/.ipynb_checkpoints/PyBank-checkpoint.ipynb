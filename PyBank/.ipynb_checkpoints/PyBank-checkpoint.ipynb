{
 "cells": [
  {
   "cell_type": "code",
   "execution_count": null,
   "id": "73c1d1c5-0a6c-41c5-bf10-1fbc8e54162f",
   "metadata": {},
   "outputs": [],
   "source": [
    "#import modules\n",
    "import pandas as pd\n",
    "from pathlib import Path\n",
    "\n",
    "#set path for file\n",
    "csvpath = Path(\"Resources/budget_data.csv\")\n",
    "\n",
    "# Read in the CSV as a DataFrame\n",
    "df = pd.read_csv(csvpath)\n",
    "print(df.head())\n",
    "\n",
    "#1The total number of months included in the dataset.\n",
    "Total_months=df[\"Profit/Losses\"].count()\n",
    "print(Total_months)\n",
    "\n",
    "\n",
    "#2 The net total amount of Profit/Losses over the entire period.\n",
    "NetPnl = df[\"Profit/Losses\"].sum()\n",
    "print(NetPnl)\n",
    "\n",
    "#3 The average of the changes in Profit/Losses over the entire period.\n",
    "df['pnl_changes']=df[\"Profit/Losses\"]- df[\"Profit/Losses\"].shift()\n",
    "print(df)\n",
    "\n",
    "Mean_PL= df[\"pnl_changes\"].mean()\n",
    "print(Mean_PL)\n",
    "\n",
    "\n",
    "#4 Greatest Increase in Profits: Feb-2012 ($1926159) --) The max is in the row\n",
    "df[\"pnl_changes\"].max()\n",
    "\n",
    "\n",
    "max_difference=df.loc[df[\"pnl_changes\"] == df[\"pnl_changes\"].max(),'Date']\n",
    "\n",
    "print(max_difference)\n",
    "\n",
    "        \n",
    "#5 The greatest decrease in losses (date and amount) over the entire period.\n",
    "\n",
    "\n",
    "min_difference= df[\"pnl_changes\"].min()\n",
    "print(min_difference)\n",
    "\n",
    "min_row=df.loc[df[\"pnl_changes\"] == df[\"pnl_changes\"].min(),'Date']\n",
    "print(min_row)\n",
    "\n",
    "print(\"Financial Analysis\")\n",
    "print(\"----------------------\")\n",
    "print(f\"Total Months: {Total_months}\")\n",
    "print(f\"Total: ${NetPnl}\")\n",
    "print(f\"Average Change: ${Mean_PL}\")\n",
    "print(f\"Greatest Increase in Profits: Feb-2012 $({max_difference})\")\n",
    "print(f\"Greatest Decrease in Profits: Sep-2013 $({min_difference})\")"
   ]
  }
 ],
 "metadata": {
  "kernelspec": {
   "display_name": "Python 3 (ipykernel)",
   "language": "python",
   "name": "python3"
  },
  "language_info": {
   "codemirror_mode": {
    "name": "ipython",
    "version": 3
   },
   "file_extension": ".py",
   "mimetype": "text/x-python",
   "name": "python",
   "nbconvert_exporter": "python",
   "pygments_lexer": "ipython3",
   "version": "3.9.12"
  }
 },
 "nbformat": 4,
 "nbformat_minor": 5
}
